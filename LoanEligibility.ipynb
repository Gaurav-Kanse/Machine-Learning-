{
  "nbformat": 4,
  "nbformat_minor": 0,
  "metadata": {
    "colab": {
      "provenance": []
    },
    "kernelspec": {
      "name": "python3",
      "display_name": "Python 3"
    },
    "language_info": {
      "name": "python"
    }
  },
  "cells": [
    {
      "cell_type": "code",
      "source": [
        "from sklearn.model_selection import train_test_split\n",
        "from sklearn.preprocessing import LabelEncoder\n",
        "from sklearn.impute import SimpleImputer\n",
        "from sklearn.ensemble import RandomForestClassifier\n",
        "from sklearn.metrics import classification_report, accuracy_score\n",
        "import pandas as pd\n",
        "\n",
        "train_df = pd.read_csv(\"loan-train.csv\")\n",
        "test_df = pd.read_csv(\"loan-test.csv\")\n",
        "\n",
        "\n",
        "train_df = train_df.drop(columns=['Loan_ID'])\n",
        "\n",
        "# Separate target\n",
        "X = train_df.drop('Loan_Status', axis=1)\n",
        "y = train_df['Loan_Status']\n",
        "\n",
        "# Encode target variable\n",
        "y = y.map({'Y': 1, 'N': 0})\n",
        "\n",
        "# Handle categorical features\n",
        "categorical_cols = X.select_dtypes(include=['object']).columns\n",
        "numerical_cols = X.select_dtypes(exclude=['object']).columns\n",
        "\n",
        "# Fill missing values\n",
        "cat_imputer = SimpleImputer(strategy='most_frequent')\n",
        "X[categorical_cols] = cat_imputer.fit_transform(X[categorical_cols])\n",
        "\n",
        "num_imputer = SimpleImputer(strategy='mean')\n",
        "X[numerical_cols] = num_imputer.fit_transform(X[numerical_cols])\n",
        "\n",
        "# Encode categorical variables\n",
        "label_encoders = {}\n",
        "for col in categorical_cols:\n",
        "    le = LabelEncoder()\n",
        "    X[col] = le.fit_transform(X[col])\n",
        "    label_encoders[col] = le\n",
        "\n",
        "# Split for validation\n",
        "X_train, X_val, y_train, y_val = train_test_split(X, y, test_size=0.2, random_state=42)\n",
        "\n",
        "# Train a model\n",
        "model = RandomForestClassifier(random_state=42)\n",
        "model.fit(X_train, y_train)\n",
        "\n",
        "# Predict on validation set\n",
        "y_pred = model.predict(X_val)\n",
        "\n",
        "# Evaluate\n",
        "accuracy = accuracy_score(y_val, y_pred)\n",
        "report = classification_report(y_val, y_pred)\n",
        "\n",
        "accuracy, report"
      ],
      "metadata": {
        "colab": {
          "base_uri": "https://localhost:8080/"
        },
        "id": "ZOYbr9hGTi39",
        "outputId": "3234a3cf-2f86-4b68-a3ea-30ca27b462b9"
      },
      "execution_count": null,
      "outputs": [
        {
          "output_type": "execute_result",
          "data": {
            "text/plain": [
              "(0.7723577235772358,\n",
              " '              precision    recall  f1-score   support\\n\\n           0       0.86      0.42      0.56        43\\n           1       0.75      0.96      0.85        80\\n\\n    accuracy                           0.77       123\\n   macro avg       0.81      0.69      0.70       123\\nweighted avg       0.79      0.77      0.75       123\\n')"
            ]
          },
          "metadata": {},
          "execution_count": 1
        }
      ]
    },
    {
      "cell_type": "code",
      "source": [],
      "metadata": {
        "id": "YJk6akWdEPWf"
      },
      "execution_count": null,
      "outputs": []
    },
    {
      "cell_type": "code",
      "source": [],
      "metadata": {
        "id": "wp6qOTzDUOSP"
      },
      "execution_count": null,
      "outputs": []
    }
  ]
}